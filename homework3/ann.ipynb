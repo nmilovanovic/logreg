{
 "cells": [
  {
   "cell_type": "code",
   "execution_count": 1,
   "metadata": {},
   "outputs": [],
   "source": [
    "import re\n",
    "import numpy as np\n",
    "from nltk import ngrams\n",
    "import tensorflow as tf\n",
    "from sklearn.model_selection import train_test_split\n",
    "import matplotlib.pyplot as plt\n",
    "from sklearn.metrics import accuracy_score\n",
    "from sklearn.metrics import confusion_matrix"
   ]
  },
  {
   "cell_type": "markdown",
   "metadata": {},
   "source": [
    "Transformacija arapskog karaktera u njegovu latinizovanu verziju"
   ]
  },
  {
   "cell_type": "code",
   "execution_count": 2,
   "metadata": {},
   "outputs": [],
   "source": [
    "def transform_character(character):\n",
    "    transformation = {\n",
    "        'ء': ' ',\n",
    "        'ا': 'a',\n",
    "        'ب': 'b',\n",
    "        'ت': 't',\n",
    "        'ث': 'θ',\n",
    "        'ج': 'j',\n",
    "        'ح': '7',\n",
    "        'خ': '5',\n",
    "        'د': 'd',\n",
    "        'ذ': 'δ',\n",
    "        'ر': 'r',\n",
    "        'ز': 'z',\n",
    "        'س': 's',\n",
    "        'ش': 'š',\n",
    "        'ص': 'S',\n",
    "        'ض': 'D',\n",
    "        'ط': 'T',\n",
    "        'ظ': 'Z',\n",
    "        'ع': '3',\n",
    "        'غ': 'γ',\n",
    "        'ف': 'f',\n",
    "        'ﻓ': 'f',\n",
    "        'ق': 'q',\n",
    "        'ك': 'k',\n",
    "        'ک': 'k',\n",
    "        'ل': 'l',\n",
    "        'م': 'm',\n",
    "        'ن': 'n',\n",
    "        'ه': 'h',\n",
    "        'ہ': 'h',\n",
    "        'و': 'w',\n",
    "        'ي': 'i',\n",
    "\n",
    "        ' ': ' ',\n",
    "\n",
    "        'آ': 'a',\n",
    "        'ة': 'a',\n",
    "        'ى': 'a',\n",
    "        'ئ': 'a',\n",
    "        'ؤ': 'w',\n",
    "        'أ': 'a',\n",
    "        'إ': 'i',\n",
    "        'ـ': ' ',\n",
    "        'ۆ': 'w',\n",
    "        'گ': 'g',\n",
    "        'ٱ': 'a',\n",
    "        'ﻠ': 'l',\n",
    "        'ﻲ': 'i',\n",
    "        'ﻋ': ' ',\n",
    "        'ﺸ': 'š',\n",
    "        'ﻥ': 'n',\n",
    "        'ﻏ': 'γ',\n",
    "        'ﻴ': 'i',\n",
    "        'ﺮ': 'r',\n",
    "        'ﻙ': 'k',\n",
    "        'ﺎ': 'a',\n",
    "        'ﻧ': 'n',\n",
    "        'ﻔ': 'f',\n",
    "        'ﺴ': 's',\n",
    "        'ﻪ': 'h',\n",
    "        'ﻳ': 'i',\n",
    "        'ﻘ': 'q',\n",
    "        'ﻮ': 'w',\n",
    "        'ﻻ': \"la\",\n",
    "        'ﻹ': \"la\",\n",
    "        'ﺼ': 'S',\n",
    "        'ﻩ': 'h',\n",
    "        'ﺒ': 'b',\n",
    "        'ﻗ': 'q',\n",
    "        'ﻦ': 'n',\n",
    "        'ﻡ': 'm',\n",
    "        'ﻣ': 'm',\n",
    "        'ﺻ': 'S',\n",
    "        'ﻨ': 'n',\n",
    "        'ﻃ': 'T',\n",
    "        'ﻭ': 'w',\n",
    "        'ﻚ': 'k',\n",
    "        'ﺗ': 't',\n",
    "        'ﻫ': 'h',\n",
    "        'ﻤ': 'm',\n",
    "        'ﺟ': 'j',\n",
    "        'ﺐ': 'b',\n",
    "        'ﻟ': 'l',\n",
    "        'ﺍ': 'a',\n",
    "        'ﻞ': 'l',\n",
    "        'ﻀ': 'D',\n",
    "        'ﺑ': 'b',\n",
    "        'ﺳ': 's',\n",
    "        'ﺘ': 't',\n",
    "        'ﺭ': 'r',\n",
    "        'ﺷ': 'š',\n",
    "        'ﺣ': '7',\n",
    "        'ﻑ': 'f',\n",
    "        'ﻌ': '3',\n",
    "        'ﺰ': 'z',\n",
    "        'ﺕ': 't',\n",
    "        'ﺤ': '7',\n",
    "        'ﺪ': 'd',\n",
    "        'ﺩ': 'd',\n",
    "        'ﺖ': 't',\n",
    "        'ﻯ': 'i',\n",
    "        'ﻷ': \"la\"\n",
    "    }\n",
    "    if character == '\\ufeff':\n",
    "        return ' '\n",
    "    elif transformation.get(character) is None:\n",
    "        return ' '\n",
    "    else:\n",
    "        return transformation[character]"
   ]
  },
  {
   "cell_type": "markdown",
   "metadata": {},
   "source": [
    "Transformacija arapskog teksta u latinični"
   ]
  },
  {
   "cell_type": "code",
   "execution_count": 3,
   "metadata": {},
   "outputs": [],
   "source": [
    "def generate_latin_text(raw_data):\n",
    "    formatted_data = re.sub(r\"\\s+\", ' ', raw_data)\n",
    "    formatted_data = re.sub(r\"[0-9A-Za-z\\\"()،,\\.:!?؟]\", \"\", formatted_data)\n",
    "    char_array = list(formatted_data.strip())\n",
    "    char_array = list(map(lambda x: transform_character(x), char_array))\n",
    "    result = \"\".join(char_array)\n",
    "    result = re.sub(r\"\\s+\", ' ', result.strip())\n",
    "    return result"
   ]
  },
  {
   "cell_type": "markdown",
   "metadata": {},
   "source": [
    "Generisanje 3gram vektora na osnovu ulaznog teksta"
   ]
  },
  {
   "cell_type": "code",
   "execution_count": 4,
   "metadata": {},
   "outputs": [],
   "source": [
    "def generate_3gram_model(input_text):\n",
    "    charset = {\n",
    "        'T': 0,\n",
    "        'S': 1,\n",
    "        'γ': 2,\n",
    "        'f': 3,\n",
    "        'š': 4,\n",
    "        '3': 5,\n",
    "        'r': 6,\n",
    "        'D': 7,\n",
    "        'a': 8,\n",
    "        'q': 9,\n",
    "        'b': 10,\n",
    "        '7': 11,\n",
    "        'd': 12,\n",
    "        'w': 13,\n",
    "        'h': 14,\n",
    "        'n': 15,\n",
    "        'θ': 16,\n",
    "        'z': 17,\n",
    "        'Z': 18,\n",
    "        'j': 19,\n",
    "        's': 20,\n",
    "        'g': 21,\n",
    "        'i': 22,\n",
    "        'k': 23,\n",
    "        '5': 24,\n",
    "        'δ': 25,\n",
    "        ' ': 26,\n",
    "        'm': 27,\n",
    "        't': 28,\n",
    "        'l': 29,\n",
    "    }\n",
    "    m = len(charset)\n",
    "    vector = np.zeros(m*m*m, dtype=np.int64)\n",
    "    grams = ngrams(input_text, 3)\n",
    "    for gram in grams:\n",
    "        index = [charset[gram[0]], charset[gram[1]], charset[gram[2]]]\n",
    "        vector[index[0]*m*m + index[1]*m + index[2]] += 1\n",
    "    return vector"
   ]
  },
  {
   "cell_type": "markdown",
   "metadata": {},
   "source": [
    "Učitavanje pozitivnih tvitova"
   ]
  },
  {
   "cell_type": "code",
   "execution_count": 5,
   "metadata": {},
   "outputs": [],
   "source": [
    "    positive_texts = []\n",
    "    for i in range(1000):\n",
    "        with open(\"Positive/positive\" + str(i+1) + \".txt\", 'r', encoding='utf-8') as input_file:\n",
    "            raw_data = input_file.read()\n",
    "            positive_texts.append(generate_latin_text(raw_data))\n",
    "    positive_texts = list(filter(lambda x: len(x) >= 3, positive_texts))\n",
    "    positive_vectors = list(map(lambda x: generate_3gram_model(x), positive_texts))"
   ]
  },
  {
   "cell_type": "markdown",
   "metadata": {},
   "source": [
    "Učitavanje negativnih tvitova"
   ]
  },
  {
   "cell_type": "code",
   "execution_count": 6,
   "metadata": {},
   "outputs": [],
   "source": [
    "    negative_texts = []\n",
    "    for i in range(1000):\n",
    "        if i in {102, 115, 175, 177, 179, 183, 185, 188, 190}:\n",
    "            continue\n",
    "        with open(\"Negative/negative\" + str(i+1) + \".txt\", 'r', encoding='utf-8') as input_file:\n",
    "            raw_data = input_file.read()\n",
    "            negative_texts.append(generate_latin_text(raw_data))\n",
    "    negative_texts = list(filter(lambda x: len(x) >= 3, negative_texts))\n",
    "    negative_vectors = list(map(lambda x: generate_3gram_model(x), negative_texts))"
   ]
  },
  {
   "cell_type": "markdown",
   "metadata": {},
   "source": [
    "Formiranje matrice atributa i klasnog vektora"
   ]
  },
  {
   "cell_type": "code",
   "execution_count": 7,
   "metadata": {
    "collapsed": true
   },
   "outputs": [
    {
     "name": "stdout",
     "output_type": "stream",
     "text": [
      "[[0 0 0 ... 0 0 0]\n",
      " [0 0 0 ... 0 0 0]\n",
      " [0 0 0 ... 0 0 0]\n",
      " ...\n",
      " [0 0 0 ... 0 0 0]\n",
      " [0 0 0 ... 0 0 0]\n",
      " [0 0 0 ... 0 0 0]]\n",
      "[[1.]\n",
      " [1.]\n",
      " [1.]\n",
      " ...\n",
      " [0.]\n",
      " [0.]\n",
      " [0.]]\n"
     ]
    }
   ],
   "source": [
    "    data_matrix = np.vstack((np.array(positive_vectors), np.array(negative_vectors)))\n",
    "    class_vector = np.vstack((np.ones(len(positive_vectors)).reshape((-1, 1)),\n",
    "                              np.zeros(len(negative_vectors)).reshape(-1, 1)))\n",
    "    print(data_matrix)\n",
    "    print(class_vector)"
   ]
  },
  {
   "cell_type": "markdown",
   "metadata": {},
   "source": [
    "Podela skupa podataka u trening i test skupove"
   ]
  },
  {
   "cell_type": "code",
   "execution_count": 8,
   "metadata": {},
   "outputs": [],
   "source": [
    "train_x, test_x, train_y, test_y = \\\n",
    "        train_test_split(data_matrix, class_vector, test_size=0.7, random_state=8, stratify=class_vector)"
   ]
  },
  {
   "cell_type": "markdown",
   "metadata": {},
   "source": [
    "Formiranje modela"
   ]
  },
  {
   "cell_type": "code",
   "execution_count": 9,
   "metadata": {
    "collapsed": true
   },
   "outputs": [
    {
     "name": "stdout",
     "output_type": "stream",
     "text": [
      "Model: \"sequential\"\n",
      "_________________________________________________________________\n",
      "Layer (type)                 Output Shape              Param #   \n",
      "=================================================================\n",
      "dense (Dense)                (None, 256)               6912256   \n",
      "_________________________________________________________________\n",
      "dense_1 (Dense)              (None, 1)                 257       \n",
      "=================================================================\n",
      "Total params: 6,912,513\n",
      "Trainable params: 6,912,513\n",
      "Non-trainable params: 0\n",
      "_________________________________________________________________\n"
     ]
    }
   ],
   "source": [
    "    model = tf.keras.models.Sequential()\n",
    "    model.add(tf.keras.layers.InputLayer((27000, )))\n",
    "    model.add(tf.keras.layers.Dense(256, activation='sigmoid'))\n",
    "    model.add(tf.keras.layers.Dense(1, activation='sigmoid'))\n",
    "\n",
    "    model.compile(optimizer=tf.keras.optimizers.RMSprop(lr=1e-3),\n",
    "                  loss=tf.keras.losses.binary_crossentropy,\n",
    "                  metrics=[tf.keras.metrics.binary_accuracy])\n",
    "\n",
    "    model.summary()"
   ]
  },
  {
   "cell_type": "markdown",
   "metadata": {},
   "source": [
    "Treniranje i evaluacija modela"
   ]
  },
  {
   "cell_type": "code",
   "execution_count": 10,
   "metadata": {
    "collapsed": true
   },
   "outputs": [
    {
     "name": "stdout",
     "output_type": "stream",
     "text": [
      "Train on 476 samples, validate on 119 samples\n",
      "Epoch 1/4\n",
      "476/476 [==============================] - 2s 4ms/sample - loss: 0.6420 - binary_accuracy: 0.6324 - val_loss: 0.5640 - val_binary_accuracy: 0.8067\n",
      "Epoch 2/4\n",
      "476/476 [==============================] - 1s 2ms/sample - loss: 0.4720 - binary_accuracy: 0.9118 - val_loss: 0.5336 - val_binary_accuracy: 0.7311\n",
      "Epoch 3/4\n",
      "476/476 [==============================] - 1s 2ms/sample - loss: 0.3791 - binary_accuracy: 0.9622 - val_loss: 0.4920 - val_binary_accuracy: 0.8571\n",
      "Epoch 4/4\n",
      "476/476 [==============================] - 1s 2ms/sample - loss: 0.3041 - binary_accuracy: 0.9748 - val_loss: 0.4602 - val_binary_accuracy: 0.8487\n",
      "1389/1389 [==============================] - 1s 555us/sample - loss: 0.4592 - binary_accuracy: 0.8229\n",
      "[0.45920435051166214, 0.82289416]\n"
     ]
    },
    {
     "data": {
      "image/png": "[encoded data removed]",
      "text/plain": [
       "<Figure size 432x288 with 1 Axes>"
      ]
     },
     "metadata": {
      "needs_background": "light"
     },
     "output_type": "display_data"
    }
   ],
   "source": [
    "    hist = model.fit(train_x, train_y, batch_size=32, epochs=4, validation_split=0.2, verbose=1)\n",
    "    result = model.evaluate(test_x, test_y, batch_size=32)\n",
    "    print(result)\n",
    "\n",
    "    plt.plot(hist.history['loss'])\n",
    "    plt.show()"
   ]
  },
  {
   "cell_type": "markdown",
   "metadata": {},
   "source": [
    "Štampanje matrice konfuzije"
   ]
  },
  {
   "cell_type": "code",
   "execution_count": 11,
   "metadata": {
    "collapsed": true
   },
   "outputs": [
    {
     "name": "stdout",
     "output_type": "stream",
     "text": [
      "0.8228941684665226\n",
      "[[587 102]\n",
      " [144 556]]\n"
     ]
    }
   ],
   "source": [
    "    predicted_y = model.predict_classes(test_x)\n",
    "    print(accuracy_score(test_y, predicted_y))\n",
    "    print(confusion_matrix(test_y, predicted_y))"
   ]
  },
  {
   "cell_type": "markdown",
   "metadata": {},
   "source": [
    "Klasifikacija tvitova koji se ne nalaze u početnom datasetu"
   ]
  },
  {
   "cell_type": "code",
   "execution_count": 12,
   "metadata": {
    "collapsed": true
   },
   "outputs": [
    {
     "name": "stdout",
     "output_type": "stream",
     "text": [
      "[[1]\n",
      " [0]]\n"
     ]
    }
   ],
   "source": [
    "    neg1 = generate_3gram_model(generate_latin_text(\"ستظل تبحث طول عمرك عن إمراه تشبهني سترجع خائب كخيبة يتيم فقد ابويه في حادث شنيع كخيبة الامان الذي فقدته برحيلي 😤\"))\n",
    "    pos1 = generate_3gram_model(generate_latin_text(\n",
    "        \"صباحكم كيتا 🤙 صباحكم أليسون 💪 صباحكم ڤان دايك 👊 صباحكم جوله من دون خسارة ✌ ️ نقطة من اصل نقطة 👍 أقوى دفاع بدخول\"))\n",
    "    print(model.predict_classes(np.array((pos1, neg1))))"
   ]
  }
 ],
 "metadata": {
  "kernelspec": {
   "display_name": "Python 3",
   "language": "python",
   "name": "python3"
  },
  "language_info": {
   "codemirror_mode": {
    "name": "ipython",
    "version": 3
   },
   "file_extension": ".py",
   "mimetype": "text/x-python",
   "name": "python",
   "nbconvert_exporter": "python",
   "pygments_lexer": "ipython3",
   "version": "3.7.4"
  }
 },
 "nbformat": 4,
 "nbformat_minor": 2
}
